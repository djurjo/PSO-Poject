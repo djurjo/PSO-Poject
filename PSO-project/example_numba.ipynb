{
  "nbformat": 4,
  "nbformat_minor": 0,
  "metadata": {
    "colab": {
      "name": "example_numba.ipynb",
      "provenance": [],
      "collapsed_sections": [],
      "authorship_tag": "ABX9TyNG5fYwWk/n0CoAS5PFwlgC",
      "include_colab_link": true
    },
    "kernelspec": {
      "name": "python3",
      "display_name": "Python 3"
    }
  },
  "cells": [
    {
      "cell_type": "markdown",
      "metadata": {
        "id": "view-in-github",
        "colab_type": "text"
      },
      "source": [
        "<a href=\"https://colab.research.google.com/github/djurjo/DABI/blob/main/PSO-project/example_numba.ipynb\" target=\"_parent\"><img src=\"https://colab.research.google.com/assets/colab-badge.svg\" alt=\"Open In Colab\"/></a>"
      ]
    },
    {
      "cell_type": "code",
      "metadata": {
        "colab": {
          "base_uri": "https://localhost:8080/"
        },
        "id": "jfFKdt5ortrj",
        "outputId": "0ba9ae72-f117-4aba-b4d7-fb8c34dff6d4"
      },
      "source": [
        "!pip install numba\n",
        "from numba import jitclass, types, typed, njit, prange\n",
        "from numba import int32, float32\n",
        "\n",
        "import time\n",
        "import random\n",
        "import math"
      ],
      "execution_count": 1,
      "outputs": [
        {
          "output_type": "stream",
          "text": [
            "Requirement already satisfied: numba in /usr/local/lib/python3.6/dist-packages (0.51.2)\n",
            "Requirement already satisfied: numpy>=1.15 in /usr/local/lib/python3.6/dist-packages (from numba) (1.19.5)\n",
            "Requirement already satisfied: setuptools in /usr/local/lib/python3.6/dist-packages (from numba) (53.0.0)\n",
            "Requirement already satisfied: llvmlite<0.35,>=0.34.0.dev0 in /usr/local/lib/python3.6/dist-packages (from numba) (0.34.0)\n"
          ],
          "name": "stdout"
        }
      ]
    },
    {
      "cell_type": "code",
      "metadata": {
        "colab": {
          "base_uri": "https://localhost:8080/"
        },
        "id": "J7wtGu2Xr3rX",
        "outputId": "1504c819-7b28-4500-d5b9-c416e066b2a9"
      },
      "source": [
        "### A python function calculating things\n",
        "\n",
        "\n",
        "def calculate():\n",
        "  s = 0\n",
        "  for x in range(10**5):\n",
        "  \n",
        "    s += math.tan(random.random())**2\n",
        "  return s\n",
        "\n",
        "@njit\n",
        "def calculate_fast():\n",
        "  s = 0\n",
        "  for x in range(10**5):\n",
        "  \n",
        "    s += math.tan(random.random())**2\n",
        "  return s\n",
        "\n",
        "\n",
        "t1 = time.time()\n",
        "x = calculate()\n",
        "print(\"Calculate took: \", time.time() - t1, \" seconds\")\n",
        "\n",
        "t1 = time.time()\n",
        "x = calculate_fast()\n",
        "print(\"Calculate_fast took: \", time.time() - t1, \" seconds the first time.\")\n",
        "\n",
        "t1 = time.time()\n",
        "x = calculate_fast()\n",
        "print(\"Calculate_fast took: \", time.time() - t1, \" seconds the second time\")\n"
      ],
      "execution_count": 3,
      "outputs": [
        {
          "output_type": "stream",
          "text": [
            "Calculate took:  0.029013872146606445  seconds\n",
            "Calculate_fast took:  0.09394407272338867  seconds the first time.\n",
            "Calculate_fast took:  0.0047490596771240234  seconds the second time\n"
          ],
          "name": "stdout"
        }
      ]
    },
    {
      "cell_type": "code",
      "metadata": {
        "colab": {
          "base_uri": "https://localhost:8080/"
        },
        "id": "IAfno3IYtJZG",
        "outputId": "6a2d21b7-6a57-4634-f8ff-04504f9d1ab3"
      },
      "source": [
        "### Lists are in general uglier...\n",
        "\n",
        "ex_list = [random.random() for i in range(10**6)]\n",
        "\n",
        "def calculate_list(ex_list):\n",
        "  s = 0\n",
        "  for x in ex_list:\n",
        "    s += x**2 + math.sin(x)\n",
        "  return x\n",
        "\n",
        "t1 = time.time()\n",
        "x = calculate_list(ex_list)\n",
        "print(\"Calculate_list took \", time.time() - t1, \" seconds\")"
      ],
      "execution_count": 14,
      "outputs": [
        {
          "output_type": "stream",
          "text": [
            "Calculate_list took  0.17064404487609863  seconds\n"
          ],
          "name": "stdout"
        }
      ]
    },
    {
      "cell_type": "code",
      "metadata": {
        "colab": {
          "base_uri": "https://localhost:8080/"
        },
        "id": "C_kAc6CtuRh3",
        "outputId": "1fdbef10-b7d9-4174-eb22-12cd30690e4d"
      },
      "source": [
        "### If we make...\n",
        "@njit  \n",
        "def calculate_list_fast(ex_list):\n",
        "  s = 0\n",
        "  for x in ex_list:\n",
        "    s += x**2 + math.sin(x)\n",
        "  return x\n",
        "\n",
        "t1 = time.time()\n",
        "x = calculate_list_fast(ex_list)\n",
        "print(\"Calculate_list_fast took \", time.time() - t1, \" seconds\")\n",
        "t1 = time.time()\n",
        "x = calculate_list_fast(ex_list)\n",
        "print(\"Calculate_list_fast took \", time.time() - t1, \" seconds the secon time\")"
      ],
      "execution_count": 16,
      "outputs": [
        {
          "output_type": "stream",
          "text": [
            "/usr/local/lib/python3.6/dist-packages/numba/core/ir_utils.py:2031: NumbaPendingDeprecationWarning: \n",
            "Encountered the use of a type that is scheduled for deprecation: type 'reflected list' found for argument 'ex_list' of function 'calculate_list_fast'.\n",
            "\n",
            "For more information visit https://numba.pydata.org/numba-doc/latest/reference/deprecation.html#deprecation-of-reflection-for-list-and-set-types\n",
            "\n",
            "File \"<ipython-input-16-e7f1e08c07c9>\", line 3:\n",
            "@njit  \n",
            "def calculate_list_fast(ex_list):\n",
            "^\n",
            "\n",
            "  warnings.warn(NumbaPendingDeprecationWarning(msg, loc=loc))\n"
          ],
          "name": "stderr"
        },
        {
          "output_type": "stream",
          "text": [
            "Calculate_list_fast took  1.7758708000183105  seconds\n",
            "Calculate_list_fast took  1.5848565101623535  seconds the secon time\n"
          ],
          "name": "stdout"
        }
      ]
    },
    {
      "cell_type": "code",
      "metadata": {
        "colab": {
          "base_uri": "https://localhost:8080/"
        },
        "id": "a1EmTOvsufTN",
        "outputId": "398962a5-3d13-498a-a9ba-271ffd216c58"
      },
      "source": [
        "## The proper way is:\n",
        "\n",
        "t_ex_list = typed.List()\n",
        "[t_ex_list.append(x) for x in ex_list]\n",
        "\n",
        "t1 = time.time()\n",
        "x = calculate_list_fast(t_ex_list)\n",
        "print(\"Calculate_list_fast took \", time.time() - t1, \" seconds the first time\")\n",
        "\n",
        "\n",
        "t1 = time.time()\n",
        "x = calculate_list_fast(t_ex_list)\n",
        "print(\"Calculate_list_fast took \", time.time() - t1, \" seconds the second time\")\n"
      ],
      "execution_count": 15,
      "outputs": [
        {
          "output_type": "stream",
          "text": [
            "Calculate_list_fast took  0.09128975868225098  seconds the first time\n",
            "Calculate_list_fast took  0.002692699432373047  seconds the second time\n"
          ],
          "name": "stdout"
        }
      ]
    },
    {
      "cell_type": "code",
      "metadata": {
        "colab": {
          "base_uri": "https://localhost:8080/"
        },
        "id": "OyBrvbRTvBGH",
        "outputId": "dacf32bd-a51c-4a21-e9fe-bc3861736570"
      },
      "source": [
        "@njit(parallel = True)\n",
        "def calculate_list_fast_par(ex_list):\n",
        "  s = 0\n",
        "  for i in prange(len(ex_list)):\n",
        "    s += ex_list[i]**2 + math.sin(ex_list[i])\n",
        "  return x\n",
        "  \n",
        "t_ex_list = typed.List()\n",
        "[t_ex_list.append(x) for x in ex_list]\n",
        "\n",
        "t1 = time.time()\n",
        "x = calculate_list_fast_par(t_ex_list)\n",
        "print(\"Calculate_list_fast took \", time.time() - t1, \" seconds the first time\")\n",
        "\n",
        "\n",
        "t1 = time.time()\n",
        "x = calculate_list_fast_par(t_ex_list)\n",
        "print(\"Calculate_list_fast took \", time.time() - t1, \" seconds the second time\")"
      ],
      "execution_count": 17,
      "outputs": [
        {
          "output_type": "stream",
          "text": [
            "<ipython-input-17-0769f4abb51f>:5: NumbaTypeSafetyWarning: unsafe cast from uint64 to int64. Precision may be lost.\n",
            "  s += ex_list[i]**2 + math.sin(ex_list[i])\n",
            "/usr/local/lib/python3.6/dist-packages/numba/np/ufunc/parallel.py:363: NumbaWarning: The TBB threading layer requires TBB version 2019.5 or later i.e., TBB_INTERFACE_VERSION >= 11005. Found TBB_INTERFACE_VERSION = 9107. The TBB threading layer is disabled.\n",
            "  warnings.warn(problem)\n"
          ],
          "name": "stderr"
        },
        {
          "output_type": "stream",
          "text": [
            "Calculate_list_fast took  1.0873351097106934  seconds the first time\n",
            "Calculate_list_fast took  0.04892110824584961  seconds the second time\n"
          ],
          "name": "stdout"
        }
      ]
    }
  ]
}