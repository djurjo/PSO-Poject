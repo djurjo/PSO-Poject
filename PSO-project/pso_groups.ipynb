{
  "nbformat": 4,
  "nbformat_minor": 0,
  "metadata": {
    "colab": {
      "name": "numba_par_groups.ipynb",
      "provenance": [],
      "collapsed_sections": [],
      "authorship_tag": "ABX9TyMZ5f4MUD3et6jVqH8cFdzh",
      "include_colab_link": true
    },
    "kernelspec": {
      "display_name": "Python 3",
      "name": "python3"
    }
  },
  "cells": [
    {
      "cell_type": "markdown",
      "metadata": {
        "id": "view-in-github",
        "colab_type": "text"
      },
      "source": [
        "<a href=\"https://colab.research.google.com/github/djurjo/DABI/blob/main/PSO-project/pso_groups.ipynb\" target=\"_parent\"><img src=\"https://colab.research.google.com/assets/colab-badge.svg\" alt=\"Open In Colab\"/></a>"
      ]
    },
    {
      "cell_type": "code",
      "metadata": {
        "colab": {
          "base_uri": "https://localhost:8080/"
        },
        "id": "HtcS_lB36xmV",
        "outputId": "8cefc669-2e96-4202-de70-981f5df317d3"
      },
      "source": [
        "!pip install numba\n",
        "from numba import jitclass, types, typed, njit, prange\n",
        "from numba import int32, float32\n",
        "import random\n",
        "import numpy as np\n",
        "import itertools\n",
        "import time\n",
        "import csv"
      ],
      "execution_count": null,
      "outputs": [
        {
          "output_type": "stream",
          "text": [
            "Requirement already satisfied: numba in /usr/local/lib/python3.6/dist-packages (0.51.2)\n",
            "Requirement already satisfied: llvmlite<0.35,>=0.34.0.dev0 in /usr/local/lib/python3.6/dist-packages (from numba) (0.34.0)\n",
            "Requirement already satisfied: numpy>=1.15 in /usr/local/lib/python3.6/dist-packages (from numba) (1.19.5)\n",
            "Requirement already satisfied: setuptools in /usr/local/lib/python3.6/dist-packages (from numba) (51.3.3)\n"
          ],
          "name": "stdout"
        }
      ]
    },
    {
      "cell_type": "code",
      "metadata": {
        "id": "4c5azlPb7MFh"
      },
      "source": [
        "def create_random_array(size, list_intervals):\n",
        "    r = np.zeros(size, dtype = np.float32)\n",
        "    for i in range(0, size):\n",
        "      b = random.random() # We use random randoms instead of np.randoms\n",
        "      interval = list_intervals[i]\n",
        "      b = (interval[1] - interval[0]) * b + interval[0]\n",
        "      r[i] += b\n",
        "    return r\n",
        "\n",
        "@njit\n",
        "def add(v1, v2):\n",
        "  r = np.zeros(v1.size, dtype = np.float32)\n",
        "  if v1.size == v2.size:\n",
        "    for i in range(0, v1.size):\n",
        "      r[i] = v1[i] + v2[i]\n",
        "  return r\n",
        "\n",
        "@njit\n",
        "def escalar(v1, val):\n",
        "  r = np.zeros(v1.size, dtype = np.float32)\n",
        "  for i in range(v1.size):\n",
        "    r[i] = v1[i]* val\n",
        "  return r\n",
        "\n",
        "@njit\n",
        "def sub(v1, v2):\n",
        "  r = np.zeros(v1.size, dtype = np.float32)\n",
        "  if v1.size == v2.size:\n",
        "    for i in range(0, v1.size):\n",
        "      r[i] = v1[i] - v2[i]\n",
        "  return r"
      ],
      "execution_count": null,
      "outputs": []
    },
    {
      "cell_type": "code",
      "metadata": {
        "id": "is7tv45Q7S2a"
      },
      "source": [
        "def create_swarn(search_space,dimension, B):\n",
        "  swarn = []\n",
        "  for i in prange(B):\n",
        "    position = create_random_array(dimension, search_space)\n",
        "    direction = create_random_array(dimension, search_space)\n",
        "    b = np.vstack((position, direction, position))\n",
        "    swarn.append(b)\n",
        "  t_swarn = typed.List()    \n",
        "  [t_swarn.append(x) for x in swarn]   \n",
        "  return t_swarn\n",
        "\n",
        "@njit\n",
        "def in_search_space(current_pos, search_space):\n",
        "    for i in range(len(search_space)):\n",
        "        if (search_space[i][0] <= current_pos[i]) and (current_pos[i] <= search_space[i][1]):\n",
        "           pass\n",
        "        else:\n",
        "            if (abs(search_space[i][0] - current_pos[i]) < abs(search_space[i][1] - current_pos[i])):\n",
        "                current_pos[i] = current_pos[i] % search_space[i][0]\n",
        "            else:\n",
        "                current_pos[i] = current_pos[i] % search_space[i][1]\n",
        "    return current_pos\n",
        "\n",
        "@njit\n",
        "def take_best_global(swarn, f):\n",
        "  b_g_p = swarn[0][2]\n",
        "  b_g_v = f(b_g_p)\n",
        "  for i in prange(len(swarn)):\n",
        "    bird = swarn[i]\n",
        "    if f(bird[2]) < b_g_v :\n",
        "      b_g_p = bird[2]\n",
        "      b_g_v = f(bird[2])\n",
        "    else:\n",
        "      pass\n",
        "  return (b_g_p, b_g_v)\n"
      ],
      "execution_count": null,
      "outputs": []
    },
    {
      "cell_type": "code",
      "metadata": {
        "id": "Zo9gt--d7hab"
      },
      "source": [
        "@njit\n",
        "def move_bird(bird, search_space):\n",
        "    n_pos = add(bird[0], bird[1])\n",
        "    #bird[0] = in_search_space(n_pos, search_space)\n",
        "    return bird\n",
        "@njit\n",
        "def bird_update_local(bird, f):\n",
        "    if f(bird[0]) < f(bird[2]):\n",
        "        bird[2] = bird[0]\n",
        "    return bird\n",
        "@njit\n",
        "def update_bird(bird, best_global_postion, cog, soc, inertia, r1, r2):\n",
        "    s1 = escalar(bird[1], inertia)\n",
        "    s2 = escalar(sub(bird[2], bird[0]) , cog*r1)\n",
        "    s3 = escalar(sub(best_global_postion, bird[0]) , soc*r2)\n",
        "    bird[1] = add(add(s1, s2), s3)\n",
        "    return bird\n",
        "@njit\n",
        "def bird_upd(bird, b_g_p, cog, soc, inertia ,r1, r2, search_space, f):\n",
        "    bird = update_bird(bird, b_g_p, cog, soc, inertia ,r1, r2)\n",
        "    bird = move_bird(bird, search_space)\n",
        "    bird = bird_update_local(bird, f)\n",
        "    return bird\n",
        "\n",
        "@njit(parallel=True)\n",
        "def swarn_upd(swarn, b_g_p, cog, soc, inertia ,r1, r2, search_space, f):\n",
        "  for j in prange(0, len(swarn)):\n",
        "    swarn[j] = bird_upd(swarn[j], b_g_p, cog, soc, inertia ,r1, r2, search_space, f)\n",
        "  return swarn\n"
      ],
      "execution_count": null,
      "outputs": []
    },
    {
      "cell_type": "code",
      "metadata": {
        "id": "sMU_iIBM7rWD"
      },
      "source": [
        "def splitBySize(rectangle, sizes):\n",
        "  \"\"\"\n",
        "  A rectangle is an n-dimensional list of tuples (min, max)\n",
        "  Sizes is a n-dimensional list (or tuple) of positive floats with the expected size\n",
        "  \"\"\"\n",
        "  rects = list([])\n",
        "  for i in range(len(rectangle)):\n",
        "    interval  = rectangle[i]\n",
        "    sz = interval[1] - interval[0]\n",
        "    wanted_sz = sizes[i]\n",
        "    complete_ints = int(sz/wanted_sz) #int rounds to floor \n",
        "    parts = [(interval[0] + k*wanted_sz, interval[0] + (k + 1)*wanted_sz) for k in range(0, complete_ints)]\n",
        "    if complete_ints != int(sz/2):\n",
        "      parts.append((interval[0] + complete_ints * wanted_sz, interval[1]))  \n",
        "    rects.append(parts)\n",
        "  lt = list(itertools.product(*rects))\n",
        "  t_lt = typed.List()\n",
        "  for x in lt:\n",
        "    t_lt.append(x)\n",
        "  return t_lt\n",
        "\n",
        "@njit\n",
        "def in_space(point, space):\n",
        "  for i in range(len(point)):\n",
        "    if not (point[i] >= space[i][0] and point[i] <= space[i][1]):\n",
        "      return False\n",
        "  return True\n",
        "\n",
        "@njit\n",
        "def agrupate_swarn(swarn, spl_space):\n",
        "  n_groups = len(spl_space)\n",
        "  sw_g = typed.List()\n",
        "  for i in range(n_groups):\n",
        "    group = typed.List()\n",
        "    for bd in swarn:\n",
        "      if in_space(bd[0], spl_space[i]):\n",
        "        group.append(bd) \n",
        "      sw_g.append(group)\n",
        "  return sw_g\n",
        "\n",
        "@njit\n",
        "def merge(gr_swarn):\n",
        "  sw = typed.List()\n",
        "  sw.append(gr_swarn[0]) #This force the sw typedList to have the needed type\n",
        "  for k in range(1, len(gr_swarn)):\n",
        "    if not (gr_swarn[k] in sw):\n",
        "      sw.append(gr_swarn[k])\n",
        "  return sw\n",
        "\n",
        "@njit\n",
        "def run_pso(swarn, iterations, space, target, cog, soc, inertia, r1, r2):\n",
        "  t = take_best_global(swarn, target)\n",
        "  b_g_p = t[0]\n",
        "  b_g_v = t[1]\n",
        "  for it in range(1, iterations + 1):\n",
        "    swarn = swarn_upd(swarn, b_g_p, cog, soc, inertia ,r1, r2, space, target) ## In each iteration share the info.\n",
        "    t = take_best_global(swarn, target)\n",
        "    b_g_p = t[0]\n",
        "    b_g_v = t[1]\n",
        "  return swarn\n",
        "\n",
        "@njit(parallel = True)\n",
        "def par_swarns(gr_swarn, b_g_p, cog, soc, inertia ,r1, r2, space, target):\n",
        "  new_swarn = []\n",
        "  for i in prange(len(gr_swarn)):\n",
        "    new_swarn.append(run_pso(gr_swarn[i], 50,space, target, cog, soc, inertia ,r1, r2))\n",
        "  return new_swarn\n",
        "\n",
        "def run_pso_gr(iterations, B, space, sizes, dimensions, target, cog, soc, inertia, r1, r2):\n",
        "  swarn = create_swarn(space, dimensions,B)\n",
        "  t = take_best_global(swarn, target)\n",
        "  b_g_p = t[0]\n",
        "  b_g_v = t[1]\n",
        "  splited_space = splitBySize(space, sizes)\n",
        "  gr_swarn = agrupate_swarn(swarn, splited_space)\n",
        "  k = round(iterations /50) \n",
        "  for it in range(1, k + 1):\n",
        "      swarn = par_swarns(gr_swarn, b_g_p, cog, soc, inertia ,r1, r2, space, target)\n",
        "      t = take_best_global(swarn, target)\n",
        "      b_g_p = t[0]  \n",
        "      b_g_v = t[1]\n",
        "      print(\"Best global in iteration \", k, \" is \", b_g_v)\n",
        "      gr_swarn = agrupate_swarn(swarn, splited_space)\n",
        "  return b_g_v"
      ],
      "execution_count": null,
      "outputs": []
    },
    {
      "cell_type": "code",
      "metadata": {
        "colab": {
          "base_uri": "https://localhost:8080/"
        },
        "id": "h2scTsvl5VOe",
        "outputId": "01475af8-3da7-4f8d-a470-bfd1e328a982"
      },
      "source": [
        "t = typed.List()\n",
        "x = [1, 2, 3, 4, 1, 1, 5]\n",
        "t.append(x[0])\n",
        "for i in x:\n",
        "  if not (i in t):\n",
        "    t.append(i)\n",
        "print(t)"
      ],
      "execution_count": null,
      "outputs": [
        {
          "output_type": "stream",
          "text": [
            "[1, 2, 3, 4, 5]\n"
          ],
          "name": "stdout"
        }
      ]
    },
    {
      "cell_type": "code",
      "metadata": {
        "id": "W0snFTEthoPD"
      },
      "source": [
        "@njit\n",
        "def sphere(x):\n",
        "  s = 0\n",
        "  for i in range(len(x)):\n",
        "    s += x[i]**2\n",
        "  return s\n"
      ],
      "execution_count": null,
      "outputs": []
    },
    {
      "cell_type": "code",
      "metadata": {
        "id": "gH0QYqqYhwap"
      },
      "source": [
        "runs = 10\n",
        "\n",
        "#### Global variables for rosenbrock and sphere.\n",
        "\n",
        "cog = 1.8  # Cognitive importance\n",
        "soc = 2.3   # Social importance\n",
        "inertia = 0.8\n",
        "\n",
        "# Two random values that will change each time\n",
        "r1 = random.random() \n",
        "r2 = random.random()\n",
        "\n",
        "# About the search space:\n",
        "\n",
        "dimensions = 5\n",
        "search_space = [(-5, 5)]*dimensions\n",
        "sizes = [2.5]*dimensions\n",
        "\n",
        "t_space = typed.List()\n",
        "[t_space.append(x) for x in search_space]\n",
        "\n",
        "# Number of birds\n",
        "B = 500\n",
        "\n",
        "# Number of iterations\n",
        "\n",
        "iterations = 1000\n"
      ],
      "execution_count": null,
      "outputs": []
    },
    {
      "cell_type": "code",
      "metadata": {
        "colab": {
          "base_uri": "https://localhost:8080/"
        },
        "id": "wDIySbqmh2HP",
        "outputId": "898180bd-6d47-43b1-9f44-3185d839b87b"
      },
      "source": [
        "t1 = time.time()\n",
        "sol = run_pso_gr(iterations, B, search_space, sizes, dimensions, sphere, cog, soc, inertia, r1, r2)\n",
        "ttotal = time.time() - t1\n",
        "\n",
        "print(\"We spent: \", ttotal)\n",
        "print(\"We get: \", sol)"
      ],
      "execution_count": null,
      "outputs": [
        {
          "output_type": "stream",
          "text": [
            "<ipython-input-5-dd104e9fd47e>:66: NumbaPendingDeprecationWarning: \n",
            "Encountered the use of a type that is scheduled for deprecation: type 'reflected list' found for argument 'search__space' of function '__numba_parfor_gufunc_0x7f4db7ae9390'.\n",
            "\n",
            "For more information visit https://numba.pydata.org/numba-doc/latest/reference/deprecation.html#deprecation-of-reflection-for-list-and-set-types\n",
            "\n",
            "File \"<string>\", line 1:\n",
            "<source missing, REPL/exec in use?>\n",
            "\n",
            "  new_swarn.append(run_pso(gr_swarn[i], 50,space, target, cog, soc, inertia ,r1, r2))\n",
            "<ipython-input-5-dd104e9fd47e>:66: NumbaPendingDeprecationWarning: \n",
            "Encountered the use of a type that is scheduled for deprecation: type 'reflected list' found for argument 'search_space' of function 'bird_upd'.\n",
            "\n",
            "For more information visit https://numba.pydata.org/numba-doc/latest/reference/deprecation.html#deprecation-of-reflection-for-list-and-set-types\n",
            "\n",
            "File \"<ipython-input-4-4a69dc34897d>\", line 19:\n",
            "@njit\n",
            "def bird_upd(bird, b_g_p, cog, soc, inertia ,r1, r2, search_space, f):\n",
            "^\n",
            "\n",
            "  new_swarn.append(run_pso(gr_swarn[i], 50,space, target, cog, soc, inertia ,r1, r2))\n",
            "<ipython-input-5-dd104e9fd47e>:66: NumbaPendingDeprecationWarning: \n",
            "Encountered the use of a type that is scheduled for deprecation: type 'reflected list' found for argument 'search_space' of function 'move_bird'.\n",
            "\n",
            "For more information visit https://numba.pydata.org/numba-doc/latest/reference/deprecation.html#deprecation-of-reflection-for-list-and-set-types\n",
            "\n",
            "File \"<ipython-input-4-4a69dc34897d>\", line 2:\n",
            "@njit\n",
            "def move_bird(bird, search_space):\n",
            "^\n",
            "\n",
            "  new_swarn.append(run_pso(gr_swarn[i], 50,space, target, cog, soc, inertia ,r1, r2))\n",
            "<ipython-input-5-dd104e9fd47e>:66: NumbaPendingDeprecationWarning: \n",
            "Encountered the use of a type that is scheduled for deprecation: type 'reflected list' found for argument 'search_space' of function 'swarn_upd'.\n",
            "\n",
            "For more information visit https://numba.pydata.org/numba-doc/latest/reference/deprecation.html#deprecation-of-reflection-for-list-and-set-types\n",
            "\n",
            "File \"<ipython-input-4-4a69dc34897d>\", line 26:\n",
            "@njit(parallel=True)\n",
            "def swarn_upd(swarn, b_g_p, cog, soc, inertia ,r1, r2, search_space, f):\n",
            "^\n",
            "\n",
            "  new_swarn.append(run_pso(gr_swarn[i], 50,space, target, cog, soc, inertia ,r1, r2))\n",
            "<ipython-input-5-dd104e9fd47e>:66: NumbaPendingDeprecationWarning: \n",
            "Encountered the use of a type that is scheduled for deprecation: type 'reflected list' found for argument 'space' of function 'run_pso'.\n",
            "\n",
            "For more information visit https://numba.pydata.org/numba-doc/latest/reference/deprecation.html#deprecation-of-reflection-for-list-and-set-types\n",
            "\n",
            "File \"<ipython-input-5-dd104e9fd47e>\", line 51:\n",
            "@njit\n",
            "def run_pso(swarn, iterations, space, target, cog, soc, inertia, r1, r2):\n",
            "^\n",
            "\n",
            "  new_swarn.append(run_pso(gr_swarn[i], 50,space, target, cog, soc, inertia ,r1, r2))\n",
            "<ipython-input-5-dd104e9fd47e>:66: NumbaWarning: The TBB threading layer requires TBB version 2019.5 or later i.e., TBB_INTERFACE_VERSION >= 11005. Found TBB_INTERFACE_VERSION = 9107. The TBB threading layer is disabled.\n",
            "  new_swarn.append(run_pso(gr_swarn[i], 50,space, target, cog, soc, inertia ,r1, r2))\n",
            "/usr/local/lib/python3.6/dist-packages/numba/core/ir_utils.py:2031: NumbaPendingDeprecationWarning: \n",
            "Encountered the use of a type that is scheduled for deprecation: type 'reflected list' found for argument 'space' of function 'par_swarns'.\n",
            "\n",
            "For more information visit https://numba.pydata.org/numba-doc/latest/reference/deprecation.html#deprecation-of-reflection-for-list-and-set-types\n",
            "\n",
            "File \"<ipython-input-5-dd104e9fd47e>\", line 63:\n",
            "@njit(parallel = True)\n",
            "def par_swarns(gr_swarn, b_g_p, cog, soc, inertia ,r1, r2, space, target):\n",
            "^\n",
            "\n",
            "  warnings.warn(NumbaPendingDeprecationWarning(msg, loc=loc))\n",
            "<ipython-input-5-dd104e9fd47e>:66: NumbaTypeSafetyWarning: unsafe cast from uint64 to int64. Precision may be lost.\n",
            "  new_swarn.append(run_pso(gr_swarn[i], 50,space, target, cog, soc, inertia ,r1, r2))\n",
            "/usr/local/lib/python3.6/dist-packages/numba/core/ir_utils.py:2031: NumbaPendingDeprecationWarning: \n",
            "Encountered the use of a type that is scheduled for deprecation: type 'reflected list' found for argument 'space' of function '__numba_parfor_gufunc_0x7f4db7cc8668'.\n",
            "\n",
            "For more information visit https://numba.pydata.org/numba-doc/latest/reference/deprecation.html#deprecation-of-reflection-for-list-and-set-types\n",
            "\n",
            "File \"<string>\", line 1:\n",
            "<source missing, REPL/exec in use?>\n",
            "\n",
            "  warnings.warn(NumbaPendingDeprecationWarning(msg, loc=loc))\n"
          ],
          "name": "stderr"
        }
      ]
    }
  ]
}